{
  "nbformat": 4,
  "nbformat_minor": 0,
  "metadata": {
    "colab": {
      "provenance": [],
      "authorship_tag": "ABX9TyPFJYfG7IwnGMdncRfbAdKR",
      "include_colab_link": true
    },
    "kernelspec": {
      "name": "python3",
      "display_name": "Python 3"
    },
    "language_info": {
      "name": "python"
    }
  },
  "cells": [
    {
      "cell_type": "markdown",
      "metadata": {
        "id": "view-in-github",
        "colab_type": "text"
      },
      "source": [
        "<a href=\"https://colab.research.google.com/github/ty875/BeautifulSoup/blob/main/web_scraping.ipynb\" target=\"_parent\"><img src=\"https://colab.research.google.com/assets/colab-badge.svg\" alt=\"Open In Colab\"/></a>"
      ]
    },
    {
      "cell_type": "markdown",
      "source": [
        "# Load in necessary libraries"
      ],
      "metadata": {
        "id": "BR-z8y7hAsR-"
      }
    },
    {
      "cell_type": "code",
      "source": [
        "import requests #pip install requests\n",
        "from bs4 import BeautifulSoup as bs #pip install beautifulSoup4\n"
      ],
      "metadata": {
        "id": "83ys4VItAwsf"
      },
      "execution_count": null,
      "outputs": []
    },
    {
      "cell_type": "markdown",
      "source": [
        "# Load our first page"
      ],
      "metadata": {
        "id": "IyEq7akvHgKr"
      }
    },
    {
      "cell_type": "code",
      "source": [
        "#Load the webpage content\n",
        "r = requests.get(\"https://ty875.github.io/BeautifulSoup/\")\n",
        "\n",
        "#Convert to a beautiful soup object\n",
        "soup = bs(r.content, \"html.parser\")\n",
        "\n",
        "#Print out the html \n",
        "print(soup.prettify())"
      ],
      "metadata": {
        "id": "gYBFyNMcHju1"
      },
      "execution_count": null,
      "outputs": []
    },
    {
      "cell_type": "markdown",
      "source": [
        "# Start Scraping"
      ],
      "metadata": {
        "id": "aQnIUWonv4C0"
      }
    },
    {
      "cell_type": "markdown",
      "source": [
        "#### find and find_all"
      ],
      "metadata": {
        "id": "KPuK5G6nw9Xi"
      }
    },
    {
      "cell_type": "code",
      "source": [
        "first_header = soup.find(\"h2\")\n",
        "\n",
        "headers = soup.find_all(\"h2\") #a list of elements\n",
        "print(headers)"
      ],
      "metadata": {
        "id": "ya6DUTwkxIPq"
      },
      "execution_count": null,
      "outputs": []
    },
    {
      "cell_type": "code",
      "source": [
        "#Pass in a list of elements to look for\n",
        "first_header = soup.find([\"h2\",\"h1\"])\n",
        "\n",
        "headers = soup.find_all([\"h1\",\"h2\"])\n",
        "headers"
      ],
      "metadata": {
        "id": "ZJoX2UNuyIxh"
      },
      "execution_count": null,
      "outputs": []
    },
    {
      "cell_type": "code",
      "source": [
        "#pass in attributes to the find/find_all\n",
        "paragraph = soup.find_all(\"p\", attrs={\"id\": \"paragraph-id\"})\n",
        "paragraph"
      ],
      "metadata": {
        "id": "aTZztbvZt6Ai"
      },
      "execution_count": null,
      "outputs": []
    },
    {
      "cell_type": "code",
      "source": [
        "#nesting find/find_all calls\n",
        "body = soup.find('body')\n",
        "div = body.find('div')\n",
        "header = div.find('h1')\n",
        "header"
      ],
      "metadata": {
        "id": "NS6Arku11sAU"
      },
      "execution_count": null,
      "outputs": []
    },
    {
      "cell_type": "code",
      "source": [
        "#search for specific string in find/find_all calls\n",
        "print(soup)\n",
        "import re\n",
        "paragraphs = soup.find_all(\"p\", string = re.compile(\"This\"))\n",
        "paragraphs"
      ],
      "metadata": {
        "id": "8aVWAipTJPqi"
      },
      "execution_count": null,
      "outputs": []
    }
  ]
}