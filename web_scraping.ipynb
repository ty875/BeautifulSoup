{
  "nbformat": 4,
  "nbformat_minor": 0,
  "metadata": {
    "colab": {
      "provenance": [],
      "authorship_tag": "ABX9TyNz67R76yIPJeW9hlGfiUJl",
      "include_colab_link": true
    },
    "kernelspec": {
      "name": "python3",
      "display_name": "Python 3"
    },
    "language_info": {
      "name": "python"
    }
  },
  "cells": [
    {
      "cell_type": "markdown",
      "metadata": {
        "id": "view-in-github",
        "colab_type": "text"
      },
      "source": [
        "<a href=\"https://colab.research.google.com/github/ty875/BeautifulSoup/blob/main/web_scraping.ipynb\" target=\"_parent\"><img src=\"https://colab.research.google.com/assets/colab-badge.svg\" alt=\"Open In Colab\"/></a>"
      ]
    },
    {
      "cell_type": "markdown",
      "source": [
        "# Load in necessary libraries"
      ],
      "metadata": {
        "id": "BR-z8y7hAsR-"
      }
    },
    {
      "cell_type": "code",
      "source": [
        "import requests #pip install requests\n",
        "from bs4 import BeautifulSoup as bs #pip install beautifulSoup4\n"
      ],
      "metadata": {
        "id": "83ys4VItAwsf"
      },
      "execution_count": 3,
      "outputs": []
    },
    {
      "cell_type": "markdown",
      "source": [
        "# Load our first page"
      ],
      "metadata": {
        "id": "IyEq7akvHgKr"
      }
    },
    {
      "cell_type": "code",
      "source": [
        "#Load the webpage content\n",
        "r = requests.get(\"https://ty875.github.io/BeautifulSoup/\")\n",
        "\n",
        "#Convert to a beautiful soup object\n",
        "soup = bs(r.content)\n",
        "\n",
        "#Print out the html\n",
        "print(soup.prettify())"
      ],
      "metadata": {
        "id": "gYBFyNMcHju1"
      },
      "execution_count": null,
      "outputs": []
    },
    {
      "cell_type": "markdown",
      "source": [
        "# Start Scraping"
      ],
      "metadata": {
        "id": "aQnIUWonv4C0"
      }
    },
    {
      "cell_type": "markdown",
      "source": [
        "#### find and find_all"
      ],
      "metadata": {
        "id": "KPuK5G6nw9Xi"
      }
    },
    {
      "cell_type": "code",
      "source": [
        "first_header = soup.find(\"h2\")\n",
        "\n",
        "headers = soup.find_all(\"h2\") #a list of elements\n",
        "print(headers)"
      ],
      "metadata": {
        "id": "ya6DUTwkxIPq"
      },
      "execution_count": null,
      "outputs": []
    },
    {
      "cell_type": "code",
      "source": [
        "#Pass in a list of elements to look for\n",
        "first_header = soup.find([\"h2\",\"h1\"])\n",
        "\n",
        "headers = soup.find_all([\"h1\",\"h2\"])\n",
        "headers"
      ],
      "metadata": {
        "id": "ZJoX2UNuyIxh"
      },
      "execution_count": null,
      "outputs": []
    },
    {
      "cell_type": "code",
      "source": [
        "#pass in attributes to the find/find_all\n",
        "paragraph = soup.find_all(\"p\", attrs={\"id\": \"paragraph-id\"})\n",
        "paragraph"
      ],
      "metadata": {
        "id": "aTZztbvZt6Ai"
      },
      "execution_count": null,
      "outputs": []
    },
    {
      "cell_type": "code",
      "source": [
        "#nesting find/find_all calls\n",
        "body = soup.find('body')\n",
        "div = body.find('div')\n",
        "header = div.find('h1')\n",
        "header"
      ],
      "metadata": {
        "id": "NS6Arku11sAU"
      },
      "execution_count": null,
      "outputs": []
    },
    {
      "cell_type": "code",
      "source": [
        "#search for specific string in find/find_all calls\n",
        "import re\n",
        "\n",
        "paragraphs = soup.find_all(lambda tag: \"p\", string=re.compile(\"Some\"))\n",
        "paragraphs\n",
        "\n",
        "#headers = soup.find_all(\"h2\", string = re.compile(\"(H|h)eader\"))\n",
        "#headers"
      ],
      "metadata": {
        "id": "8aVWAipTJPqi"
      },
      "execution_count": null,
      "outputs": []
    },
    {
      "cell_type": "markdown",
      "source": [
        "# select(CSS selector)"
      ],
      "metadata": {
        "id": "ohxfpmfB69O6"
      }
    },
    {
      "cell_type": "code",
      "source": [
        "content = soup.select(\"div p\") #p tag only inside div\n",
        "content"
      ],
      "metadata": {
        "id": "A5jOnQIy7ach"
      },
      "execution_count": null,
      "outputs": []
    },
    {
      "cell_type": "code",
      "source": [
        "paragraphs = soup.select(\"h2 ~ p\") #p tag strictly after h2 tag\n",
        "paragraphs"
      ],
      "metadata": {
        "id": "a05f6HWA7q85"
      },
      "execution_count": null,
      "outputs": []
    },
    {
      "cell_type": "code",
      "source": [
        "bold_text = soup.select(\"p#paragraph-id b\")\n",
        "bold_text"
      ],
      "metadata": {
        "id": "5lO0jDD38X8T"
      },
      "execution_count": null,
      "outputs": []
    },
    {
      "cell_type": "code",
      "source": [
        "paragraphs = soup.select(\"body > p\") #> direct descendant of body\n",
        "#print(paragraphs)\n",
        "\n",
        "for paragraph in paragraphs:\n",
        "  print(paragraph.select(\"i\"))"
      ],
      "metadata": {
        "id": "jd1yh8xF8qDG"
      },
      "execution_count": null,
      "outputs": []
    },
    {
      "cell_type": "code",
      "source": [
        "#Grab by element with specific propert\n",
        "soup.select(\"[align = middle]\")"
      ],
      "metadata": {
        "id": "q8Blja149Dct"
      },
      "execution_count": null,
      "outputs": []
    },
    {
      "cell_type": "markdown",
      "source": [
        "# Get different properties of he HTML"
      ],
      "metadata": {
        "id": "YkGNl45QXuh3"
      }
    },
    {
      "cell_type": "code",
      "source": [
        "#string\n",
        "header = soup.find(\"h2\")\n",
        "header.string\n",
        "\n",
        "#IF multiple child elements use get_text()\n",
        "div = soup.find(\"div\")\n",
        "print(div.prettify())\n",
        "print(div.get_text())"
      ],
      "metadata": {
        "id": "h6uiC_trX008"
      },
      "execution_count": null,
      "outputs": []
    },
    {
      "cell_type": "code",
      "source": [
        "#Get a specific property from an element\n",
        "link = soup.find(\"a\")\n",
        "link['href']\n",
        "\n",
        "paragraphs = soup.select(\"p#paragraph-id\")\n",
        "paragraphs[0]['id']"
      ],
      "metadata": {
        "colab": {
          "base_uri": "https://localhost:8080/",
          "height": 35
        },
        "id": "ye51ojG-YhmP",
        "outputId": "65cf1a70-dc68-49a0-f19b-2a94626ec972"
      },
      "execution_count": null,
      "outputs": [
        {
          "output_type": "execute_result",
          "data": {
            "text/plain": [
              "'paragraph-id'"
            ],
            "application/vnd.google.colaboratory.intrinsic+json": {
              "type": "string"
            }
          },
          "metadata": {},
          "execution_count": 14
        }
      ]
    },
    {
      "cell_type": "markdown",
      "source": [
        "#Code navigation"
      ],
      "metadata": {
        "id": "9ZvQAIr4ZWfH"
      }
    },
    {
      "cell_type": "code",
      "source": [
        "#Path Syntax\n",
        "soup.body.div.h1.string"
      ],
      "metadata": {
        "colab": {
          "base_uri": "https://localhost:8080/",
          "height": 35
        },
        "id": "8KPUamLfZZ7V",
        "outputId": "346a66f3-9b99-4018-cff1-56a38ba854ae"
      },
      "execution_count": null,
      "outputs": [
        {
          "output_type": "execute_result",
          "data": {
            "text/plain": [
              "'This is a header'"
            ],
            "application/vnd.google.colaboratory.intrinsic+json": {
              "type": "string"
            }
          },
          "metadata": {},
          "execution_count": 16
        }
      ]
    },
    {
      "cell_type": "code",
      "source": [
        "#Terms: parent, sibling child\n",
        "soup.body.find('div').find_next_siblings()"
      ],
      "metadata": {
        "id": "VT_reP5jZjmN"
      },
      "execution_count": null,
      "outputs": []
    },
    {
      "cell_type": "markdown",
      "source": [
        "# Exercises\n",
        "Go to https://www.google.com/"
      ],
      "metadata": {
        "id": "jsiEm9hTajwY"
      }
    },
    {
      "cell_type": "code",
      "source": [
        "from requests.api import request\n",
        "#Load the page\n",
        "r = requests.get(\"https://www.google.com/\")\n",
        "web = bs(r.content)\n",
        "print(web.prettify())"
      ],
      "metadata": {
        "id": "sY8okcw1amJV"
      },
      "execution_count": null,
      "outputs": []
    },
    {
      "cell_type": "markdown",
      "source": [
        "# Grab all of the links\n",
        "In at least 2 different way:"
      ],
      "metadata": {
        "id": "PXoIgte6b5dx"
      }
    },
    {
      "cell_type": "code",
      "source": [
        "#web.body.select(\"links with class gb1\")\n",
        "links = web.body.select(\"a.gb1\") #id .class\n",
        "actual_links = [link['href']for link in links]\n",
        "actual_links"
      ],
      "metadata": {
        "id": "TqlhGvWIcBOI"
      },
      "execution_count": null,
      "outputs": []
    },
    {
      "cell_type": "markdown",
      "source": [
        "# Scrape the table"
      ],
      "metadata": {
        "id": "a9u7G9mEAMHx"
      }
    },
    {
      "cell_type": "code",
      "source": [
        "#scrape the table into pandas dataframe\n",
        "import pandas as pd\n",
        "\n",
        "table = soup.select(\".Cats_Table\")[0]\n",
        "columns = table.find(\"thead\").find_all(\"th\")\n",
        "column_names = [c.string for c in columns]\n",
        "\n",
        "table_rows = table.find(\"tbody\").find_all(\"tr\")\n",
        "l=[]\n",
        "for tr in table_rows:\n",
        "  td = tr.find_all('td')\n",
        "  row = [tr.get_text() for tr in td]\n",
        "  l.append(row)\n",
        "\n",
        "df = pd.DataFrame(l, columns = column_names)\n",
        "df.head()\n",
        "df['Trait']\n",
        "df.loc[df['Breed'] != \"Maine Coon\"]"
      ],
      "metadata": {
        "id": "1Uu1eIiaAM6n"
      },
      "execution_count": null,
      "outputs": []
    },
    {
      "cell_type": "markdown",
      "source": [
        "# Grab all the Breeds that has the trait: friendly"
      ],
      "metadata": {
        "id": "nyzOh1n7G0rm"
      }
    },
    {
      "cell_type": "code",
      "source": [
        "import re\n",
        "\n",
        "Cats = soup.select('.Cats_Table')\n",
        "Friendly_Cats = [cat.find_all(string = re.compile(\"friendly\")) for cat in Cats]\n",
        "Friendly_Cats\n",
        "\n",
        "Goofy_Cats = [cat.find(string = re.compile(\"goofy\")) for cat in Cats]\n",
        "Goofy_Cats = [cat.find_parent().get_text() for cat in Goofy_Cats if cat]\n",
        "Goofy_Cats"
      ],
      "metadata": {
        "id": "kPjH-GefG-JT"
      },
      "execution_count": null,
      "outputs": []
    },
    {
      "cell_type": "markdown",
      "source": [
        "# Download an image"
      ],
      "metadata": {
        "id": "Gcmt4IpBQvle"
      }
    },
    {
      "cell_type": "code",
      "source": [
        "import requests\n",
        "\n",
        "url = \"https://ty875.github.io/BeautifulSoup/\"\n",
        "\n",
        "image = soup.select(\"img\")\n",
        "image_url = image[0]['src']\n",
        "\n",
        "image_data = requests.get(image_url).content\n",
        "#download the image into the google collab directory\n",
        "#can be accessed by going to the file folder to the left\n",
        "#To download it on local machines, use terminal\n",
        "with open('Cat.jpg', 'wb') as handler:\n",
        "    handler.write(image_data)"
      ],
      "metadata": {
        "id": "lGJm0dsUQxxx"
      },
      "execution_count": 5,
      "outputs": []
    },
    {
      "cell_type": "markdown",
      "source": [
        "# Solving the mystery challenge"
      ],
      "metadata": {
        "id": "k9s2Gmnut8-H"
      }
    },
    {
      "cell_type": "code",
      "source": [
        "Files = soup.select(\"li a\")\n",
        "relative_files = [f['href'] for f in Files]\n",
        "\n",
        "url = \"https://ty875.github.io/BeautifulSoup/\"\n",
        "for f in relative_files:\n",
        "  full_url = url + f\n",
        "  page = requests.get(full_url)\n",
        "  bs_page = bs(page.content)\n",
        "  secret_word = bs_page.find(\"p\", attrs={\"id\":\"secret-word\"})\n",
        "  print(secret_word.string)"
      ],
      "metadata": {
        "id": "pz2zVwweQ5Mg"
      },
      "execution_count": null,
      "outputs": []
    }
  ]
}