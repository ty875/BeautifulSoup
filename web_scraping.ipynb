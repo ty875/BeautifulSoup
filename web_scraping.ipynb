{
  "nbformat": 4,
  "nbformat_minor": 0,
  "metadata": {
    "colab": {
      "provenance": [],
      "authorship_tag": "ABX9TyMy7yXn5SlwsPEg5tByblmr",
      "include_colab_link": true
    },
    "kernelspec": {
      "name": "python3",
      "display_name": "Python 3"
    },
    "language_info": {
      "name": "python"
    }
  },
  "cells": [
    {
      "cell_type": "markdown",
      "metadata": {
        "id": "view-in-github",
        "colab_type": "text"
      },
      "source": [
        "<a href=\"https://colab.research.google.com/github/ty875/BeautifulSoup/blob/main/web_scraping.ipynb\" target=\"_parent\"><img src=\"https://colab.research.google.com/assets/colab-badge.svg\" alt=\"Open In Colab\"/></a>"
      ]
    },
    {
      "cell_type": "markdown",
      "source": [
        "# Load in necessary libraries"
      ],
      "metadata": {
        "id": "BR-z8y7hAsR-"
      }
    },
    {
      "cell_type": "code",
      "source": [
        "import requests #pip install requests\n",
        "from bs4 import BeautifulSoup as bs #pip install beautifulSoup4\n"
      ],
      "metadata": {
        "id": "83ys4VItAwsf"
      },
      "execution_count": null,
      "outputs": []
    },
    {
      "cell_type": "markdown",
      "source": [
        "# Load our first page"
      ],
      "metadata": {
        "id": "IyEq7akvHgKr"
      }
    },
    {
      "cell_type": "code",
      "source": [
        "#Load the webpage content\n",
        "r = requests.get(\"https://ty875.github.io/BeautifulSoup/\")\n",
        "\n",
        "#Convert to a beautiful soup object\n",
        "soup = bs(r.content)\n",
        "\n",
        "#Print out the html\n",
        "print(soup.prettify())"
      ],
      "metadata": {
        "colab": {
          "base_uri": "https://localhost:8080/"
        },
        "id": "gYBFyNMcHju1",
        "outputId": "617341f6-6293-4a24-9958-fe09c684ef59"
      },
      "execution_count": null,
      "outputs": [
        {
          "output_type": "stream",
          "name": "stdout",
          "text": [
            "<html>\n",
            " <head>\n",
            "  <title>\n",
            "   Page Title\n",
            "  </title>\n",
            "  <link href=\"/Users/TY/style.css\" rel=\"stylesheet\"/>\n",
            " </head>\n",
            " <body>\n",
            "  <div align=\"middle\">\n",
            "   <h1>\n",
            "    This is a header\n",
            "   </h1>\n",
            "   <p>\n",
            "    This is a paragraph\n",
            "                Link:\n",
            "    <a href=\"https://www.google.com/\">\n",
            "     https://www.google.com/\n",
            "    </a>\n",
            "   </p>\n",
            "  </div>\n",
            "  <h2>\n",
            "   A header\n",
            "  </h2>\n",
            "  <br/>\n",
            "  <p>\n",
            "   <i>\n",
            "    Italicized text\n",
            "   </i>\n",
            "  </p>\n",
            "  <h2>\n",
            "   2nd header\n",
            "  </h2>\n",
            "  <p id=\"paragraph id\">\n",
            "   <b>\n",
            "    Bold text\n",
            "   </b>\n",
            "  </p>\n",
            "  <table class=\"Cats_Table\">\n",
            "   <thead>\n",
            "    <tr>\n",
            "     <th>\n",
            "      Breed\n",
            "     </th>\n",
            "     <th>\n",
            "      Trait\n",
            "     </th>\n",
            "     <th class=\"Picture\" style=\"width: 300\">\n",
            "      Picture\n",
            "     </th>\n",
            "    </tr>\n",
            "   </thead>\n",
            "   <tbody>\n",
            "    <tr>\n",
            "     <td class=\"Breed\">\n",
            "      Ragdoll\n",
            "     </td>\n",
            "     <td class=\"Trait\">\n",
            "      gentle, calm, and sociable\n",
            "     </td>\n",
            "     <td class=\"Picture\">\n",
            "      <img alt=\"Ragdoll\" src=\"https://assets.elanco.com/8e0bf1c2-1ae4-001f-9257-f2be3c683fb1/5b65b849-841f-4370-8030-95227c3d461e/ragdoll_cat_01401.jpg\" style=\"width:100%;height:100%\"/>\n",
            "     </td>\n",
            "    </tr>\n",
            "    <tr>\n",
            "     <td class=\"Breed\">\n",
            "      American Shorthair\n",
            "     </td>\n",
            "     <td class=\"Trait\">\n",
            "      adaptability, patience, and tolerance\n",
            "     </td>\n",
            "     <td class=\"Picture\">\n",
            "      <img alt=\"American Shorthair\" src=\"https://encrypted-tbn0.gstatic.com/images?q=tbn:ANd9GcQjM9KCpmHqnobxhe7UNIbPCY6hLf63ipuEDA&amp;usqp=CAU\" style=\"width:100%;height:100%\"/>\n",
            "     </td>\n",
            "    </tr>\n",
            "    <tr>\n",
            "     <td class=\"Breed\">\n",
            "      Maine Coon\n",
            "     </td>\n",
            "     <td class=\"Trait\">\n",
            "      friendly, affectionate, and goofy\n",
            "     </td>\n",
            "     <td class=\"Picture\">\n",
            "      <img alt=\"Maine Coon\" src=\"https://www.vetstreet.com/wp-content/uploads/2022/09/white-animal-cute-pet-fur-portrait-922519-pxhere.com-1.jpg\" style=\"width:100%;height:100%\"/>\n",
            "     </td>\n",
            "    </tr>\n",
            "    <tr>\n",
            "     <td class=\"Breed\">\n",
            "      Siamese\n",
            "     </td>\n",
            "     <td class=\"Trait\">\n",
            "      highly intelligent, talkative, and sociable\n",
            "     </td>\n",
            "     <td class=\"Picture\">\n",
            "      <img alt=\"Siamese\" src=\"https://assets.elanco.com/8e0bf1c2-1ae4-001f-9257-f2be3c683fb1/fca42f04-2474-4302-a238-990c8aebfe8c/Siamese_cat_1110x740.jpg\" style=\"width:100%;height:100%\"/>\n",
            "     </td>\n",
            "    </tr>\n",
            "    <tr>\n",
            "     <td class=\"Breed\">\n",
            "      Cyprus\n",
            "     </td>\n",
            "     <td class=\"Trait\">\n",
            "      sociable, friendly, and energetic\n",
            "     </td>\n",
            "     <td class=\"Picture\">\n",
            "      <img alt=\"Cyprus\" src=\"https://upload.wikimedia.org/wikipedia/commons/b/b9/CyprusShorthair.jpg\" style=\"width:100%;height:100%;\"/>\n",
            "     </td>\n",
            "    </tr>\n",
            "    <tr>\n",
            "     <td class=\"Breed\">\n",
            "      Persian\n",
            "     </td>\n",
            "     <td class=\"Trait\">\n",
            "      quiet, sweet, and gentle\n",
            "     </td>\n",
            "     <td class=\"Picture\">\n",
            "      <img alt=\"Persian\" src=\"https://cdn.shopify.com/s/files/1/0535/2738/0144/articles/shutterstock_538333303.jpg?v=1683242960\" style=\"width:100%;height:100%;\"/>\n",
            "     </td>\n",
            "    </tr>\n",
            "   </tbody>\n",
            "  </table>\n",
            " </body>\n",
            "</html>\n",
            "\n"
          ]
        }
      ]
    },
    {
      "cell_type": "markdown",
      "source": [
        "# Start Scraping"
      ],
      "metadata": {
        "id": "aQnIUWonv4C0"
      }
    },
    {
      "cell_type": "markdown",
      "source": [
        "#### find and find_all"
      ],
      "metadata": {
        "id": "KPuK5G6nw9Xi"
      }
    },
    {
      "cell_type": "code",
      "source": [
        "first_header = soup.find(\"h2\")\n",
        "\n",
        "headers = soup.find_all(\"h2\") #a list of elements\n",
        "print(headers)"
      ],
      "metadata": {
        "colab": {
          "base_uri": "https://localhost:8080/"
        },
        "id": "ya6DUTwkxIPq",
        "outputId": "8d1527a8-ae8b-4d60-d2ed-ff3ead2f5de2"
      },
      "execution_count": null,
      "outputs": [
        {
          "output_type": "stream",
          "name": "stdout",
          "text": [
            "[<h2>A Header</h2>, <h2>2nd header</h2>]\n"
          ]
        }
      ]
    },
    {
      "cell_type": "code",
      "source": [
        "#Pass in a list of elements to look for\n",
        "first_header = soup.find([\"h2\",\"h1\"])\n",
        "\n",
        "headers = soup.find_all([\"h1\",\"h2\"])\n",
        "headers"
      ],
      "metadata": {
        "colab": {
          "base_uri": "https://localhost:8080/"
        },
        "id": "ZJoX2UNuyIxh",
        "outputId": "0dc99c84-290f-4b1e-fa1b-80912b990665"
      },
      "execution_count": null,
      "outputs": [
        {
          "output_type": "execute_result",
          "data": {
            "text/plain": [
              "[<div align=\"middle\">\n",
              " <h1>HTML Webpage</h1>\n",
              " <p>Link to more interesting example: <a href=\"https://keithgalli.github.io/web-scraping/webpage.html\">keithgalli.github.io/web-scraping/webpage.html</a></p>\n",
              " </div>]"
            ]
          },
          "metadata": {},
          "execution_count": 151
        }
      ]
    },
    {
      "cell_type": "code",
      "source": [
        "#pass in attributes to the find/find_all\n",
        "paragraph = soup.find_all(\"p\", attrs={\"id\": \"paragraph-id\"})\n",
        "paragraph"
      ],
      "metadata": {
        "id": "aTZztbvZt6Ai"
      },
      "execution_count": null,
      "outputs": []
    },
    {
      "cell_type": "code",
      "source": [
        "#nesting find/find_all calls\n",
        "body = soup.find('body')\n",
        "div = body.find('div')\n",
        "header = div.find('h1')\n",
        "header"
      ],
      "metadata": {
        "colab": {
          "base_uri": "https://localhost:8080/"
        },
        "id": "NS6Arku11sAU",
        "outputId": "0f66218d-086d-4c92-b5b6-d8d2551cff70"
      },
      "execution_count": null,
      "outputs": [
        {
          "output_type": "execute_result",
          "data": {
            "text/plain": [
              "<h1>This is a header</h1>"
            ]
          },
          "metadata": {},
          "execution_count": 128
        }
      ]
    },
    {
      "cell_type": "code",
      "source": [
        "#search for specific string in find/find_all calls\n",
        "import re\n",
        "\n",
        "paragraphs = soup.find_all(lambda tag: \"p\", string=re.compile(\"Some\"))\n",
        "paragraphs\n",
        "\n",
        "#headers = soup.find_all(\"h2\", string = re.compile(\"(H|h)eader\"))\n",
        "#headers"
      ],
      "metadata": {
        "colab": {
          "base_uri": "https://localhost:8080/"
        },
        "id": "8aVWAipTJPqi",
        "outputId": "45c71ffe-b8a8-4d21-9a46-25a6c7cc57fe"
      },
      "execution_count": null,
      "outputs": [
        {
          "output_type": "execute_result",
          "data": {
            "text/plain": [
              "[<p>Some</p>, <i>Some italicize text</i>]"
            ]
          },
          "metadata": {},
          "execution_count": 9
        }
      ]
    },
    {
      "cell_type": "markdown",
      "source": [
        "# select(CSS selector)"
      ],
      "metadata": {
        "id": "ohxfpmfB69O6"
      }
    },
    {
      "cell_type": "code",
      "source": [
        "content = soup.select(\"div p\") #p tag only inside div\n",
        "content"
      ],
      "metadata": {
        "colab": {
          "base_uri": "https://localhost:8080/"
        },
        "id": "A5jOnQIy7ach",
        "outputId": "dbd362f0-1da6-460f-e69b-ec508b6aa804"
      },
      "execution_count": null,
      "outputs": [
        {
          "output_type": "execute_result",
          "data": {
            "text/plain": [
              "[<p>\n",
              "                 This is a link to a website: \n",
              "                 <a href=\"https://www.google.com/\"> https://www.google.com/\n",
              "                 </a>\n",
              " </p>]"
            ]
          },
          "metadata": {},
          "execution_count": 216
        }
      ]
    },
    {
      "cell_type": "code",
      "source": [
        "paragraphs = soup.select(\"h2 ~ p\") #p tag strictly after h2 tag\n",
        "paragraphs"
      ],
      "metadata": {
        "colab": {
          "base_uri": "https://localhost:8080/"
        },
        "id": "a05f6HWA7q85",
        "outputId": "f7e3391b-ae3b-4ffb-96df-e05256eeb554"
      },
      "execution_count": null,
      "outputs": [
        {
          "output_type": "execute_result",
          "data": {
            "text/plain": [
              "[<p>Some</p>,\n",
              " <p><i>Some italicize text</i>\n",
              " </p>,\n",
              " <p id=\"paragraph-id\">\n",
              " <b>Bold text</b>\n",
              " </p>]"
            ]
          },
          "metadata": {},
          "execution_count": 217
        }
      ]
    },
    {
      "cell_type": "code",
      "source": [
        "bold_text = soup.select(\"p#paragraph-id b\")\n",
        "bold_text"
      ],
      "metadata": {
        "colab": {
          "base_uri": "https://localhost:8080/"
        },
        "id": "5lO0jDD38X8T",
        "outputId": "623e12e0-00fd-4e38-b956-e4de51c6c1dc"
      },
      "execution_count": null,
      "outputs": [
        {
          "output_type": "execute_result",
          "data": {
            "text/plain": [
              "[<b>Bold text</b>]"
            ]
          },
          "metadata": {},
          "execution_count": 218
        }
      ]
    },
    {
      "cell_type": "code",
      "source": [
        "paragraphs = soup.select(\"body > p\") #> direct descendant of body\n",
        "#print(paragraphs)\n",
        "\n",
        "for paragraph in paragraphs:\n",
        "  print(paragraph.select(\"i\"))"
      ],
      "metadata": {
        "colab": {
          "base_uri": "https://localhost:8080/"
        },
        "id": "jd1yh8xF8qDG",
        "outputId": "5c3d66a4-77d8-4812-9cd3-ba7d45c37547"
      },
      "execution_count": null,
      "outputs": [
        {
          "output_type": "stream",
          "name": "stdout",
          "text": [
            "[]\n",
            "[<i>Some italicize text</i>]\n",
            "[]\n"
          ]
        }
      ]
    },
    {
      "cell_type": "code",
      "source": [
        "#Grab by element with specific propert\n",
        "soup.select(\"[align = middle]\")"
      ],
      "metadata": {
        "colab": {
          "base_uri": "https://localhost:8080/"
        },
        "id": "q8Blja149Dct",
        "outputId": "5f0bf395-f9f8-45c6-ea5d-7245dfe19d0d"
      },
      "execution_count": null,
      "outputs": [
        {
          "output_type": "execute_result",
          "data": {
            "text/plain": [
              "[<div align=\"middle\">\n",
              " <h1>This is a header</h1>\n",
              " <p>\n",
              "                 This is a link to a website: \n",
              "                 <a href=\"https://www.google.com/\"> https://www.google.com/\n",
              "                 </a>\n",
              " </p>\n",
              " </div>]"
            ]
          },
          "metadata": {},
          "execution_count": 5
        }
      ]
    },
    {
      "cell_type": "markdown",
      "source": [
        "# Get different properties of he HTML"
      ],
      "metadata": {
        "id": "YkGNl45QXuh3"
      }
    },
    {
      "cell_type": "code",
      "source": [
        "#string\n",
        "header = soup.find(\"h2\")\n",
        "header.string\n",
        "\n",
        "#IF multiple child elements use get_text()\n",
        "div = soup.find(\"div\")\n",
        "print(div.prettify())\n",
        "print(div.get_text())"
      ],
      "metadata": {
        "colab": {
          "base_uri": "https://localhost:8080/"
        },
        "id": "h6uiC_trX008",
        "outputId": "758970e5-927f-4f94-a8b6-4fb48939b515"
      },
      "execution_count": null,
      "outputs": [
        {
          "output_type": "stream",
          "name": "stdout",
          "text": [
            "<div align=\"middle\">\n",
            " <h1>\n",
            "  This is a header\n",
            " </h1>\n",
            " <p>\n",
            "  This is a link to a website:\n",
            "  <a href=\"https://www.google.com/\">\n",
            "   https://www.google.com/\n",
            "  </a>\n",
            " </p>\n",
            "</div>\n",
            "\n",
            "\n",
            "This is a header\n",
            "\n",
            "                This is a link to a website: \n",
            "                 https://www.google.com/\n",
            "                \n",
            "\n",
            "\n"
          ]
        }
      ]
    },
    {
      "cell_type": "code",
      "source": [
        "#Get a specific property from an element\n",
        "link = soup.find(\"a\")\n",
        "link['href']\n",
        "\n",
        "paragraphs = soup.select(\"p#paragraph-id\")\n",
        "paragraphs[0]['id']"
      ],
      "metadata": {
        "colab": {
          "base_uri": "https://localhost:8080/",
          "height": 35
        },
        "id": "ye51ojG-YhmP",
        "outputId": "65cf1a70-dc68-49a0-f19b-2a94626ec972"
      },
      "execution_count": null,
      "outputs": [
        {
          "output_type": "execute_result",
          "data": {
            "text/plain": [
              "'paragraph-id'"
            ],
            "application/vnd.google.colaboratory.intrinsic+json": {
              "type": "string"
            }
          },
          "metadata": {},
          "execution_count": 14
        }
      ]
    },
    {
      "cell_type": "markdown",
      "source": [
        "#Code navigation"
      ],
      "metadata": {
        "id": "9ZvQAIr4ZWfH"
      }
    },
    {
      "cell_type": "code",
      "source": [
        "#Path Syntax\n",
        "soup.body.div.h1.string"
      ],
      "metadata": {
        "colab": {
          "base_uri": "https://localhost:8080/",
          "height": 35
        },
        "id": "8KPUamLfZZ7V",
        "outputId": "346a66f3-9b99-4018-cff1-56a38ba854ae"
      },
      "execution_count": null,
      "outputs": [
        {
          "output_type": "execute_result",
          "data": {
            "text/plain": [
              "'This is a header'"
            ],
            "application/vnd.google.colaboratory.intrinsic+json": {
              "type": "string"
            }
          },
          "metadata": {},
          "execution_count": 16
        }
      ]
    },
    {
      "cell_type": "code",
      "source": [
        "#Terms: parent, sibling child\n",
        "soup.body.find('div').find_next_siblings()"
      ],
      "metadata": {
        "colab": {
          "base_uri": "https://localhost:8080/"
        },
        "id": "VT_reP5jZjmN",
        "outputId": "9f99ecf9-dbfa-47bf-cd93-f15523981034"
      },
      "execution_count": null,
      "outputs": [
        {
          "output_type": "execute_result",
          "data": {
            "text/plain": [
              "[<h2>A header</h2>,\n",
              " <br/>,\n",
              " <p>\n",
              " <i>Italicized text</i>\n",
              " </p>,\n",
              " <h2>2nd header</h2>,\n",
              " <p id=\"paragraph id\">\n",
              " <b>Bold text</b>\n",
              " </p>,\n",
              " <table class=\"Cats_Table\">\n",
              " <thead>\n",
              " <tr>\n",
              " <th>Breed</th>\n",
              " <th>Trait</th>\n",
              " <th class=\"Picture\" style=\"width: 300\">Picture</th>\n",
              " </tr>\n",
              " </thead>\n",
              " <tbody>\n",
              " <tr>\n",
              " <td class=\"Breed\">Ragdoll</td>\n",
              " <td class=\"Trait\">gentle, calm, and sociable</td>\n",
              " <td class=\"Picture\"><img alt=\"Ragdoll\" src=\"https://assets.elanco.com/8e0bf1c2-1ae4-001f-9257-f2be3c683fb1/5b65b849-841f-4370-8030-95227c3d461e/ragdoll_cat_01401.jpg\" style=\"width:100%;height:100%\"/></td>\n",
              " </tr>\n",
              " <tr>\n",
              " <td class=\"Breed\">American Shorthair</td>\n",
              " <td class=\"Trait\">adaptability, patience, and tolerance</td>\n",
              " <td class=\"Picture\"><img alt=\"American Shorthair\" src=\"https://encrypted-tbn0.gstatic.com/images?q=tbn:ANd9GcQjM9KCpmHqnobxhe7UNIbPCY6hLf63ipuEDA&amp;usqp=CAU\" style=\"width:100%;height:100%\"/></td>\n",
              " </tr>\n",
              " <tr>\n",
              " <td class=\"Breed\">Maine Coon</td>\n",
              " <td class=\"Trait\">friendly, affectionate, and goofy </td>\n",
              " <td class=\"Picture\"><img alt=\"Maine Coon\" src=\"https://www.vetstreet.com/wp-content/uploads/2022/09/white-animal-cute-pet-fur-portrait-922519-pxhere.com-1.jpg\" style=\"width:100%;height:100%\"/></td>\n",
              " </tr>\n",
              " <tr>\n",
              " <td class=\"Breed\">Siamese</td>\n",
              " <td class=\"Trait\">highly intelligent, talkative, and sociable</td>\n",
              " <td class=\"Picture\"><img alt=\"Siamese\" src=\"https://assets.elanco.com/8e0bf1c2-1ae4-001f-9257-f2be3c683fb1/fca42f04-2474-4302-a238-990c8aebfe8c/Siamese_cat_1110x740.jpg\" style=\"width:100%;height:100%\"/></td>\n",
              " </tr>\n",
              " <tr>\n",
              " <td class=\"Breed\">Cyprus</td>\n",
              " <td class=\"Trait\">sociable, friendly, and energetic</td>\n",
              " <td class=\"Picture\"><img alt=\"Cyprus\" src=\"https://upload.wikimedia.org/wikipedia/commons/b/b9/CyprusShorthair.jpg\" style=\"width:100%;height:100%;\"/></td>\n",
              " </tr>\n",
              " <tr>\n",
              " <td class=\"Breed\">Persian</td>\n",
              " <td class=\"Trait\">quiet, sweet, and gentle</td>\n",
              " <td class=\"Picture\"><img alt=\"Persian\" src=\"https://cdn.shopify.com/s/files/1/0535/2738/0144/articles/shutterstock_538333303.jpg?v=1683242960\" style=\"width:100%;height:100%;\"/></td>\n",
              " </tr>\n",
              " </tbody>\n",
              " </table>]"
            ]
          },
          "metadata": {},
          "execution_count": 4
        }
      ]
    },
    {
      "cell_type": "markdown",
      "source": [
        "# Exercises\n",
        "Go to https://www.google.com/"
      ],
      "metadata": {
        "id": "jsiEm9hTajwY"
      }
    },
    {
      "cell_type": "code",
      "source": [
        "from requests.api import request\n",
        "#Load the page\n",
        "r = requests.get(\"https://www.google.com/\")\n",
        "web = bs(r.content)\n",
        "print(web.prettify())"
      ],
      "metadata": {
        "colab": {
          "base_uri": "https://localhost:8080/"
        },
        "id": "sY8okcw1amJV",
        "outputId": "781a7238-8389-41c3-fddf-c9ba5113ecb4"
      },
      "execution_count": null,
      "outputs": [
        {
          "output_type": "stream",
          "name": "stdout",
          "text": [
            "<!DOCTYPE html>\n",
            "<html itemscope=\"\" itemtype=\"http://schema.org/WebPage\" lang=\"nl\">\n",
            " <head>\n",
            "  <meta content=\"text/html; charset=utf-8\" http-equiv=\"Content-Type\"/>\n",
            "  <meta content=\"/images/branding/googleg/1x/googleg_standard_color_128dp.png\" itemprop=\"image\"/>\n",
            "  <title>\n",
            "   Google\n",
            "  </title>\n",
            "  <script nonce=\"Hfs8BsWsqIoAbypWzUH0UQ\">\n",
            "   (function(){var _g={kEI:'dUKPZJyqCpP_sAe3iqHoDQ',kEXPI:'0,1359409,6058,207,4804,2316,383,246,5,1129120,1197756,380735,16114,28684,22431,1361,12311,17588,4998,17075,41316,2891,3926,213,7615,606,29842,20217,8227,2403,2615,13491,230,20583,4,1528,2304,42127,13658,27050,6624,7596,1,42154,2,39761,6699,31123,4568,6255,23419,1248,5841,12137,2830,4333,7484,25076,2006,8155,7381,1480,14489,873,6578,13056,7,1922,9779,20640,2259,19560,20198,5797,8,14428,20206,3371,5006,18960,280,299,4824,1494,1536,6110,5041,4665,1804,10472,2885,13050,6690,1896,9062,2365,662,477,1158,5798,2,2147,1761,2707,1442,584,545,3147,4867,262,354,666,4,2413,1149,7214,3423,3,6787,560,163,5,5493,962,309,2041,372,864,345,2,545,20,5202600,6837,133,2,4,2,5993722,2804423,3311,141,795,19735,2,346,6044,550,59,18,1,1,5,5,1,1,1,3,3,7,3,2,9,3,27,3,22,5,5,1,3,1,23943702,578,4044536,4407,11257,2894,6250,19852,29,7,1592252,23577926,682,84,94,134,2049,4,1101,871,1302,1495,611,704,1268,1,1374,3,1022,2369,13,2005,1094,16,112,159,564,1767,2227,99,66,310,486,516,1082,792,521,1564,650,21,567,1144,952,149,53,229,359,328,87,166,91,273,1,6,127,135,262,841,96,436,132,331,500,148,314,1,126,148,162,227,831,635,913,28,793,1061,356,298,385,405,351,177,1,619,290,6,320,802,1914,769,848,670,455,191,14,3,171,373',kBL:'EIIf',kOPI:89978449};if (window.google && window.google.stvsc){window.google.kEI = _g.kEI;}else {window.google = _g;}\n",
            "})();(function(){google.sn='webhp';google.kHL='nl';})();(function(){\n",
            "var h=this||self;function l(){return void 0!==window.google&&void 0!==window.google.kOPI&&0!==window.google.kOPI?window.google.kOPI:null};var m,n=[];function p(a){for(var b;a&&(!a.getAttribute||!(b=a.getAttribute(\"eid\")));)a=a.parentNode;return b||m}function q(a){for(var b=null;a&&(!a.getAttribute||!(b=a.getAttribute(\"leid\")));)a=a.parentNode;return b}function r(a){/^http:/i.test(a)&&\"https:\"===window.location.protocol&&(google.ml&&google.ml(Error(\"a\"),!1,{src:a,glmm:1}),a=\"\");return a}\n",
            "function t(a,b,c,d,k){var e=\"\";-1===b.search(\"&ei=\")&&(e=\"&ei=\"+p(d),-1===b.search(\"&lei=\")&&(d=q(d))&&(e+=\"&lei=\"+d));d=\"\";var g=-1===b.search(\"&cshid=\")&&\"slh\"!==a,f=[];f.push([\"zx\",Date.now().toString()]);h._cshid&&g&&f.push([\"cshid\",h._cshid]);c=c();null!=c&&f.push([\"opi\",c.toString()]);for(c=0;c<f.length;c++){if(0===c||0<c)d+=\"&\";d+=f[c][0]+\"=\"+f[c][1]}return\"/\"+(k||\"gen_204\")+\"?atyp=i&ct=\"+String(a)+\"&cad=\"+(b+e+d)};m=google.kEI;google.getEI=p;google.getLEI=q;google.ml=function(){return null};google.log=function(a,b,c,d,k,e){e=void 0===e?l:e;c||(c=t(a,b,e,d,k));if(c=r(c)){a=new Image;var g=n.length;n[g]=a;a.onerror=a.onload=a.onabort=function(){delete n[g]};a.src=c}};google.logUrl=function(a,b){b=void 0===b?l:b;return t(\"\",a,b)};}).call(this);(function(){google.y={};google.sy=[];google.x=function(a,b){if(a)var c=a.id;else{do c=Math.random();while(google.y[c])}google.y[c]=[a,b];return!1};google.sx=function(a){google.sy.push(a)};google.lm=[];google.plm=function(a){google.lm.push.apply(google.lm,a)};google.lq=[];google.load=function(a,b,c){google.lq.push([[a],b,c])};google.loadAll=function(a,b){google.lq.push([a,b])};google.bx=!1;google.lx=function(){};}).call(this);google.f={};(function(){\n",
            "document.documentElement.addEventListener(\"submit\",function(b){var a;if(a=b.target){var c=a.getAttribute(\"data-submitfalse\");a=\"1\"===c||\"q\"===c&&!a.elements.q.value?!0:!1}else a=!1;a&&(b.preventDefault(),b.stopPropagation())},!0);document.documentElement.addEventListener(\"click\",function(b){var a;a:{for(a=b.target;a&&a!==document.documentElement;a=a.parentElement)if(\"A\"===a.tagName){a=\"1\"===a.getAttribute(\"data-nohref\");break a}a=!1}a&&b.preventDefault()},!0);}).call(this);\n",
            "  </script>\n",
            "  <style>\n",
            "   #gbar,#guser{font-size:13px;padding-top:1px !important;}#gbar{height:22px}#guser{padding-bottom:7px !important;text-align:right}.gbh,.gbd{border-top:1px solid #c9d7f1;font-size:1px}.gbh{height:0;position:absolute;top:24px;width:100%}@media all{.gb1{height:22px;margin-right:.5em;vertical-align:top}#gbar{float:left}}a.gb1,a.gb4{text-decoration:underline !important}a.gb1,a.gb4{color:#00c !important}.gbi .gb4{color:#dd8e27 !important}.gbf .gb4{color:#900 !important}\n",
            "  </style>\n",
            "  <style>\n",
            "   body,td,a,p,.h{font-family:arial,sans-serif}body{margin:0;overflow-y:scroll}#gog{padding:3px 8px 0}td{line-height:.8em}.gac_m td{line-height:17px}form{margin-bottom:20px}.h{color:#1967d2}em{font-weight:bold;font-style:normal}.lst{height:25px;width:496px}.gsfi,.lst{font:18px arial,sans-serif}.gsfs{font:17px arial,sans-serif}.ds{display:inline-box;display:inline-block;margin:3px 0 4px;margin-left:4px}input{font-family:inherit}body{background:#fff;color:#000}a{color:#681da8;text-decoration:none}a:hover,a:active{text-decoration:underline}.fl a{color:#1967d2}a:visited{color:#681da8}.sblc{padding-top:5px}.sblc a{display:block;margin:2px 0;margin-left:13px;font-size:11px}.lsbb{background:#f8f9fa;border:solid 1px;border-color:#dadce0 #70757a #70757a #dadce0;height:30px}.lsbb{display:block}#WqQANb a{display:inline-block;margin:0 12px}.lsb{background:url(/images/nav_logo229.png) 0 -261px repeat-x;color:#000;border:none;cursor:pointer;height:30px;margin:0;outline:0;font:15px arial,sans-serif;vertical-align:top}.lsb:active{background:#dadce0}.lst:focus{outline:none}\n",
            "  </style>\n",
            "  <script nonce=\"Hfs8BsWsqIoAbypWzUH0UQ\">\n",
            "   (function(){window.google.erd={jsr:1,bv:1816,de:true};\n",
            "var h=this||self;var k,l=null!=(k=h.mei)?k:1,n,p=null!=(n=h.sdo)?n:!0,q=0,r,t=google.erd,v=t.jsr;google.ml=function(a,b,d,m,e){e=void 0===e?2:e;b&&(r=a&&a.message);if(google.dl)return google.dl(a,e,d),null;if(0>v){window.console&&console.error(a,d);if(-2===v)throw a;b=!1}else b=!a||!a.message||\"Error loading script\"===a.message||q>=l&&!m?!1:!0;if(!b)return null;q++;d=d||{};b=encodeURIComponent;var c=\"/gen_204?atyp=i&ei=\"+b(google.kEI);google.kEXPI&&(c+=\"&jexpid=\"+b(google.kEXPI));c+=\"&srcpg=\"+b(google.sn)+\"&jsr=\"+b(t.jsr)+\"&bver=\"+b(t.bv);var f=a.lineNumber;void 0!==f&&(c+=\"&line=\"+f);var g=\n",
            "a.fileName;g&&(0<g.indexOf(\"-extension:/\")&&(e=3),c+=\"&script=\"+b(g),f&&g===window.location.href&&(f=document.documentElement.outerHTML.split(\"\\n\")[f],c+=\"&cad=\"+b(f?f.substring(0,300):\"No script found.\")));c+=\"&jsel=\"+e;for(var u in d)c+=\"&\",c+=b(u),c+=\"=\",c+=b(d[u]);c=c+\"&emsg=\"+b(a.name+\": \"+a.message);c=c+\"&jsst=\"+b(a.stack||\"N/A\");12288<=c.length&&(c=c.substr(0,12288));a=c;m||google.log(0,\"\",a);return a};window.onerror=function(a,b,d,m,e){r!==a&&(a=e instanceof Error?e:Error(a),void 0===d||\"lineNumber\"in a||(a.lineNumber=d),void 0===b||\"fileName\"in a||(a.fileName=b),google.ml(a,!1,void 0,!1,\"SyntaxError\"===a.name||\"SyntaxError\"===a.message.substring(0,11)||-1!==a.message.indexOf(\"Script error\")?3:0));r=null;p&&q>=l&&(window.onerror=null)};})();\n",
            "  </script>\n",
            " </head>\n",
            " <body bgcolor=\"#fff\">\n",
            "  <script nonce=\"Hfs8BsWsqIoAbypWzUH0UQ\">\n",
            "   (function(){var src='/images/nav_logo229.png';var iesg=false;document.body.onload = function(){window.n && window.n();if (document.images){new Image().src=src;}\n",
            "if (!iesg){document.f&&document.f.q.focus();document.gbqf&&document.gbqf.q.focus();}\n",
            "}\n",
            "})();\n",
            "  </script>\n",
            "  <div id=\"mngb\">\n",
            "   <div id=\"gbar\">\n",
            "    <nobr>\n",
            "     <b class=\"gb1\">\n",
            "      Zoeken\n",
            "     </b>\n",
            "     <a class=\"gb1\" href=\"https://www.google.com/imghp?hl=nl&amp;tab=wi\">\n",
            "      Afbeeldingen\n",
            "     </a>\n",
            "     <a class=\"gb1\" href=\"https://maps.google.nl/maps?hl=nl&amp;tab=wl\">\n",
            "      Maps\n",
            "     </a>\n",
            "     <a class=\"gb1\" href=\"https://play.google.com/?hl=nl&amp;tab=w8\">\n",
            "      Play\n",
            "     </a>\n",
            "     <a class=\"gb1\" href=\"https://www.youtube.com/?tab=w1\">\n",
            "      YouTube\n",
            "     </a>\n",
            "     <a class=\"gb1\" href=\"https://news.google.com/?tab=wn\">\n",
            "      Nieuws\n",
            "     </a>\n",
            "     <a class=\"gb1\" href=\"https://mail.google.com/mail/?tab=wm\">\n",
            "      Gmail\n",
            "     </a>\n",
            "     <a class=\"gb1\" href=\"https://drive.google.com/?tab=wo\">\n",
            "      Drive\n",
            "     </a>\n",
            "     <a class=\"gb1\" href=\"https://www.google.nl/intl/nl/about/products?tab=wh\" style=\"text-decoration:none\">\n",
            "      <u>\n",
            "       Meer\n",
            "      </u>\n",
            "      »\n",
            "     </a>\n",
            "    </nobr>\n",
            "   </div>\n",
            "   <div id=\"guser\" width=\"100%\">\n",
            "    <nobr>\n",
            "     <span class=\"gbi\" id=\"gbn\">\n",
            "     </span>\n",
            "     <span class=\"gbf\" id=\"gbf\">\n",
            "     </span>\n",
            "     <span id=\"gbe\">\n",
            "     </span>\n",
            "     <a class=\"gb4\" href=\"http://www.google.nl/history/optout?hl=nl\">\n",
            "      Webgeschiedenis\n",
            "     </a>\n",
            "     |\n",
            "     <a class=\"gb4\" href=\"/preferences?hl=nl\">\n",
            "      Instellingen\n",
            "     </a>\n",
            "     |\n",
            "     <a class=\"gb4\" href=\"https://accounts.google.com/ServiceLogin?hl=nl&amp;passive=true&amp;continue=https://www.google.com/&amp;ec=GAZAAQ\" id=\"gb_70\" target=\"_top\">\n",
            "      Inloggen\n",
            "     </a>\n",
            "    </nobr>\n",
            "   </div>\n",
            "   <div class=\"gbh\" style=\"left:0\">\n",
            "   </div>\n",
            "   <div class=\"gbh\" style=\"right:0\">\n",
            "   </div>\n",
            "  </div>\n",
            "  <center>\n",
            "   <br clear=\"all\" id=\"lgpd\"/>\n",
            "   <div id=\"lga\">\n",
            "    <img alt=\"Google\" height=\"92\" id=\"hplogo\" src=\"/images/branding/googlelogo/1x/googlelogo_white_background_color_272x92dp.png\" style=\"padding:28px 0 14px\" width=\"272\"/>\n",
            "    <br/>\n",
            "    <br/>\n",
            "   </div>\n",
            "   <form action=\"/search\" name=\"f\">\n",
            "    <table cellpadding=\"0\" cellspacing=\"0\">\n",
            "     <tr valign=\"top\">\n",
            "      <td width=\"25%\">\n",
            "      </td>\n",
            "      <td align=\"center\" nowrap=\"\">\n",
            "       <input name=\"ie\" type=\"hidden\" value=\"ISO-8859-1\"/>\n",
            "       <input name=\"hl\" type=\"hidden\" value=\"nl\"/>\n",
            "       <input name=\"source\" type=\"hidden\" value=\"hp\"/>\n",
            "       <input name=\"biw\" type=\"hidden\"/>\n",
            "       <input name=\"bih\" type=\"hidden\"/>\n",
            "       <div class=\"ds\" style=\"height:32px;margin:4px 0\">\n",
            "        <input autocomplete=\"off\" class=\"lst\" maxlength=\"2048\" name=\"q\" size=\"57\" style=\"margin:0;padding:5px 8px 0 6px;vertical-align:top;color:#000\" title=\"Google Zoeken\" value=\"\"/>\n",
            "       </div>\n",
            "       <br style=\"line-height:0\"/>\n",
            "       <span class=\"ds\">\n",
            "        <span class=\"lsbb\">\n",
            "         <input class=\"lsb\" name=\"btnG\" type=\"submit\" value=\"Google Zoeken\"/>\n",
            "        </span>\n",
            "       </span>\n",
            "       <span class=\"ds\">\n",
            "        <span class=\"lsbb\">\n",
            "         <input class=\"lsb\" id=\"tsuid_1\" name=\"btnI\" type=\"submit\" value=\"Ik doe een gok\"/>\n",
            "         <script nonce=\"Hfs8BsWsqIoAbypWzUH0UQ\">\n",
            "          (function(){var id='tsuid_1';document.getElementById(id).onclick = function(){if (this.form.q.value){this.checked = 1;if (this.form.iflsig)this.form.iflsig.disabled = false;}\n",
            "else top.location='/doodles/';};})();\n",
            "         </script>\n",
            "         <input name=\"iflsig\" type=\"hidden\" value=\"AOEireoAAAAAZI9QhbHa9zv4hT8-AkEk4iLbNdbwCPwV\"/>\n",
            "        </span>\n",
            "       </span>\n",
            "      </td>\n",
            "      <td align=\"left\" class=\"fl sblc\" nowrap=\"\" width=\"25%\">\n",
            "       <a href=\"/advanced_search?hl=nl&amp;authuser=0\">\n",
            "        Geavanceerd zoeken\n",
            "       </a>\n",
            "      </td>\n",
            "     </tr>\n",
            "    </table>\n",
            "    <input id=\"gbv\" name=\"gbv\" type=\"hidden\" value=\"1\"/>\n",
            "    <script nonce=\"Hfs8BsWsqIoAbypWzUH0UQ\">\n",
            "     (function(){var a,b=\"1\";if(document&&document.getElementById)if(\"undefined\"!=typeof XMLHttpRequest)b=\"2\";else if(\"undefined\"!=typeof ActiveXObject){var c,d,e=[\"MSXML2.XMLHTTP.6.0\",\"MSXML2.XMLHTTP.3.0\",\"MSXML2.XMLHTTP\",\"Microsoft.XMLHTTP\"];for(c=0;d=e[c++];)try{new ActiveXObject(d),b=\"2\"}catch(h){}}a=b;if(\"2\"==a&&-1==location.search.indexOf(\"&gbv=2\")){var f=google.gbvu,g=document.getElementById(\"gbv\");g&&(g.value=a);f&&window.setTimeout(function(){location.href=f},0)};}).call(this);\n",
            "    </script>\n",
            "   </form>\n",
            "   <div id=\"gac_scont\">\n",
            "   </div>\n",
            "   <div style=\"font-size:83%;min-height:3.5em\">\n",
            "    <br/>\n",
            "    <div id=\"gws-output-pages-elements-homepage_additional_languages__als\">\n",
            "     <style>\n",
            "      #gws-output-pages-elements-homepage_additional_languages__als{font-size:small;margin-bottom:24px}#SIvCob{color:#3c4043;display:inline-block;line-height:28px;}#SIvCob a{padding:0 3px;}.H6sW5{display:inline-block;margin:0 2px;white-space:nowrap}.z4hgWe{display:inline-block;margin:0 2px}\n",
            "     </style>\n",
            "     <div id=\"SIvCob\">\n",
            "      Google aangeboden in:\n",
            "      <a href=\"https://www.google.com/setprefs?sig=0_717VysPb44gxs_Iqne2pEQm_XL8%3D&amp;hl=fy&amp;source=homepage&amp;sa=X&amp;ved=0ahUKEwjcuMG-r83_AhWTP-wKHTdFCN0Q2ZgBCAU\">\n",
            "       Frysk\n",
            "      </a>\n",
            "     </div>\n",
            "    </div>\n",
            "   </div>\n",
            "   <span id=\"footer\">\n",
            "    <div style=\"font-size:10pt\">\n",
            "     <div id=\"WqQANb\" style=\"margin:19px auto;text-align:center\">\n",
            "      <a href=\"/intl/nl/ads/\">\n",
            "       Adverteren\n",
            "      </a>\n",
            "      <a href=\"http://www.google.nl/intl/nl/services/\">\n",
            "       Bedrijfsoplossingen\n",
            "      </a>\n",
            "      <a href=\"/intl/nl/about.html\">\n",
            "       Alles over Google\n",
            "      </a>\n",
            "      <a href=\"https://www.google.com/setprefdomain?prefdom=NL&amp;prev=https://www.google.nl/&amp;sig=K_Q-Asj5Tn8XDxATt4uxza5Ff8oXc%3D\">\n",
            "       Google.nl\n",
            "      </a>\n",
            "     </div>\n",
            "    </div>\n",
            "    <p style=\"font-size:8pt;color:#70757a\">\n",
            "     © 2023 -\n",
            "     <a href=\"/intl/nl/policies/privacy/\">\n",
            "      Privacy\n",
            "     </a>\n",
            "     -\n",
            "     <a href=\"/intl/nl/policies/terms/\">\n",
            "      Voorwaarden\n",
            "     </a>\n",
            "    </p>\n",
            "   </span>\n",
            "  </center>\n",
            "  <script nonce=\"Hfs8BsWsqIoAbypWzUH0UQ\">\n",
            "   (function(){window.google.cdo={height:757,width:1440};(function(){var a=window.innerWidth,b=window.innerHeight;if(!a||!b){var c=window.document,d=\"CSS1Compat\"==c.compatMode?c.documentElement:c.body;a=d.clientWidth;b=d.clientHeight}\n",
            "if(a&&b&&(a!=google.cdo.width||b!=google.cdo.height)){var e=google,f=e.log,g=\"/client_204?&atyp=i&biw=\"+a+\"&bih=\"+b+\"&ei=\"+google.kEI,h=\"\",k=[],l=void 0!==window.google&&void 0!==window.google.kOPI&&0!==window.google.kOPI?window.google.kOPI:null;null!=l&&k.push([\"opi\",l.toString()]);for(var m=0;m<k.length;m++){if(0===m||0<m)h+=\"&\";h+=k[m][0]+\"=\"+k[m][1]}f.call(e,\"\",\"\",g+h)};}).call(this);})();\n",
            "  </script>\n",
            "  <script nonce=\"Hfs8BsWsqIoAbypWzUH0UQ\">\n",
            "   (function(){google.xjs={ck:'xjs.hp.DkkSNrDZRp4.L.X.O',cs:'ACT90oFXBn2FfvpGhu5agdNCl6cFWny-Yg',csss:'ACT90oHVoKpy9MLLg-uDgMdQRS3Q3yIygg',excm:[],sepcss:false};})();\n",
            "  </script>\n",
            "  <script nonce=\"Hfs8BsWsqIoAbypWzUH0UQ\">\n",
            "   (function(){var u='/xjs/_/js/k\\x3dxjs.hp.en.87M_LMT-a7M.O/am\\x3dAAAAAAAAAEAAAAAAAAAAAAAA0AkAoACABQ/d\\x3d1/ed\\x3d1/rs\\x3dACT90oE_oN-wo6TZ5V9PccGFt9m6GWymjA/m\\x3dsb_he,d,cEt90b,SNUn3,qddgKe,sTsDMc,dtl0hd,eHDfl';var amd=0;\n",
            "var e=this||self,f=function(c){return c};var g;var k=function(c){this.g=c};k.prototype.toString=function(){return this.g+\"\"};var m={};\n",
            "function q(){var c=u,n=function(){};google.lx=google.stvsc?n:function(){google.timers&&google.timers.load&&google.tick&&google.tick(\"load\",\"xjsls\");var a=document;var b=\"SCRIPT\";\"application/xhtml+xml\"===a.contentType&&(b=b.toLowerCase());b=a.createElement(b);a=null===c?\"null\":void 0===c?\"undefined\":c;if(void 0===g){var d=null;var l=e.trustedTypes;if(l&&l.createPolicy){try{d=l.createPolicy(\"goog#html\",{createHTML:f,createScript:f,createScriptURL:f})}catch(r){e.console&&e.console.error(r.message)}g=\n",
            "d}else g=d}a=(d=g)?d.createScriptURL(a):a;a=new k(a,m);b.src=a instanceof k&&a.constructor===k?a.g:\"type_error:TrustedResourceUrl\";var h,p;(h=(a=null==(p=(h=(b.ownerDocument&&b.ownerDocument.defaultView||window).document).querySelector)?void 0:p.call(h,\"script[nonce]\"))?a.nonce||a.getAttribute(\"nonce\")||\"\":\"\")&&b.setAttribute(\"nonce\",h);document.body.appendChild(b);google.psa=!0;google.lx=n};google.bx||google.lx()};google.xjsu=u;e._F_jsUrl=u;setTimeout(function(){0<amd?google.caft(function(){return q()},amd):q()},0);})();window._ = window._ || {};window._DumpException = _._DumpException = function(e){throw e;};window._s = window._s || {};_s._DumpException = _._DumpException;window._qs = window._qs || {};_qs._DumpException = _._DumpException;function _F_installCss(c){}\n",
            "(function(){google.jl={blt:'none',chnk:0,dw:false,dwu:true,emtn:0,end:0,ico:false,ikb:0,ine:false,injs:'none',injt:0,injth:0,injv2:false,lls:'default',pdt:0,rep:0,snet:true,strt:0,ubm:false,uwp:true};})();(function(){var pmc='{\\x22d\\x22:{},\\x22sb_he\\x22:{\\x22agen\\x22:true,\\x22cgen\\x22:true,\\x22client\\x22:\\x22heirloom-hp\\x22,\\x22dh\\x22:true,\\x22ds\\x22:\\x22\\x22,\\x22fl\\x22:true,\\x22host\\x22:\\x22google.com\\x22,\\x22jsonp\\x22:true,\\x22msgs\\x22:{\\x22cibl\\x22:\\x22Zoekopdracht wissen\\x22,\\x22dym\\x22:\\x22Bedoelde je:\\x22,\\x22lcky\\x22:\\x22Ik doe een gok\\x22,\\x22lml\\x22:\\x22Meer informatie\\x22,\\x22psrc\\x22:\\x22Deze zoekopdracht is verwijderd uit je \\\\u003Ca href\\x3d\\\\\\x22/history\\\\\\x22\\\\u003EWebgeschiedenis\\\\u003C/a\\\\u003E\\x22,\\x22psrl\\x22:\\x22Verwijderen\\x22,\\x22sbit\\x22:\\x22Zoeken op afbeelding\\x22,\\x22srch\\x22:\\x22Google Zoeken\\x22},\\x22ovr\\x22:{},\\x22pq\\x22:\\x22\\x22,\\x22rfs\\x22:[],\\x22sbas\\x22:\\x220 3px 8px 0 rgba(0,0,0,0.2),0 0 0 1px rgba(0,0,0,0.08)\\x22,\\x22stok\\x22:\\x22NEXqszFad7JPUBX-bWM0vHywWig\\x22}}';google.pmc=JSON.parse(pmc);})();(function(){\n",
            "var b=function(a){var c=0;return function(){return c<a.length?{done:!1,value:a[c++]}:{done:!0}}},e=this||self;var g,h;a:{for(var k=[\"CLOSURE_FLAGS\"],l=e,n=0;n<k.length;n++)if(l=l[k[n]],null==l){h=null;break a}h=l}var p=h&&h[610401301];g=null!=p?p:!1;var q,r=e.navigator;q=r?r.userAgentData||null:null;function t(a){return g?q?q.brands.some(function(c){return(c=c.brand)&&-1!=c.indexOf(a)}):!1:!1}function u(a){var c;a:{if(c=e.navigator)if(c=c.userAgent)break a;c=\"\"}return-1!=c.indexOf(a)};function v(){return g?!!q&&0<q.brands.length:!1}function w(){return u(\"Safari\")&&!(x()||(v()?0:u(\"Coast\"))||(v()?0:u(\"Opera\"))||(v()?0:u(\"Edge\"))||(v()?t(\"Microsoft Edge\"):u(\"Edg/\"))||(v()?t(\"Opera\"):u(\"OPR\"))||u(\"Firefox\")||u(\"FxiOS\")||u(\"Silk\")||u(\"Android\"))}function x(){return v()?t(\"Chromium\"):(u(\"Chrome\")||u(\"CriOS\"))&&!(v()?0:u(\"Edge\"))||u(\"Silk\")}function y(){return u(\"Android\")&&!(x()||u(\"Firefox\")||u(\"FxiOS\")||(v()?0:u(\"Opera\"))||u(\"Silk\"))};var z=v()?!1:u(\"Trident\")||u(\"MSIE\");y();x();w();var A=!z&&!w(),D=function(a){if(/-[a-z]/.test(\"ved\"))return null;if(A&&a.dataset){if(y()&&!(\"ved\"in a.dataset))return null;a=a.dataset.ved;return void 0===a?null:a}return a.getAttribute(\"data-\"+\"ved\".replace(/([A-Z])/g,\"-$1\").toLowerCase())};var E=[],F=null;function G(a){a=a.target;var c=performance.now(),f=[],H=f.concat,d=E;if(!(d instanceof Array)){var m=\"undefined\"!=typeof Symbol&&Symbol.iterator&&d[Symbol.iterator];if(m)d=m.call(d);else if(\"number\"==typeof d.length)d={next:b(d)};else throw Error(\"a`\"+String(d));for(var B=[];!(m=d.next()).done;)B.push(m.value);d=B}E=H.call(f,d,[c]);if(a&&a instanceof HTMLElement)if(a===F){if(c=4<=E.length)c=5>(E[E.length-1]-E[E.length-4])/1E3;if(c){c=google.getEI(a);a.hasAttribute(\"data-ved\")?f=a?D(a)||\"\":\"\":f=(f=\n",
            "a.closest(\"[data-ved]\"))?D(f)||\"\":\"\";f=f||\"\";if(a.hasAttribute(\"jsname\"))a=a.getAttribute(\"jsname\");else{var C;a=null==(C=a.closest(\"[jsname]\"))?void 0:C.getAttribute(\"jsname\")}google.log(\"rcm\",\"&ei=\"+c+\"&ved=\"+f+\"&jsname=\"+(a||\"\"))}}else F=a,E=[c]}window.document.addEventListener(\"DOMContentLoaded\",function(){document.body.addEventListener(\"click\",G)});}).call(this);\n",
            "  </script>\n",
            " </body>\n",
            "</html>\n"
          ]
        }
      ]
    },
    {
      "cell_type": "markdown",
      "source": [
        "# Grab all of the links\n",
        "In at least 2 different way:"
      ],
      "metadata": {
        "id": "PXoIgte6b5dx"
      }
    },
    {
      "cell_type": "code",
      "source": [
        "#web.body.select(\"links with class gb1\")\n",
        "links = web.body.select(\"a.gb1\") #id .class\n",
        "actual_links = [link['href']for link in links]\n",
        "actual_links"
      ],
      "metadata": {
        "colab": {
          "base_uri": "https://localhost:8080/"
        },
        "id": "TqlhGvWIcBOI",
        "outputId": "74346d03-9a0a-40a3-99a4-63d57b28ce11"
      },
      "execution_count": null,
      "outputs": [
        {
          "output_type": "execute_result",
          "data": {
            "text/plain": [
              "['https://www.google.com/imghp?hl=nl&tab=wi',\n",
              " 'https://maps.google.nl/maps?hl=nl&tab=wl',\n",
              " 'https://play.google.com/?hl=nl&tab=w8',\n",
              " 'https://www.youtube.com/?tab=w1',\n",
              " 'https://news.google.com/?tab=wn',\n",
              " 'https://mail.google.com/mail/?tab=wm',\n",
              " 'https://drive.google.com/?tab=wo',\n",
              " 'https://www.google.nl/intl/nl/about/products?tab=wh']"
            ]
          },
          "metadata": {},
          "execution_count": 6
        }
      ]
    },
    {
      "cell_type": "markdown",
      "source": [
        "# Scrape the table"
      ],
      "metadata": {
        "id": "a9u7G9mEAMHx"
      }
    },
    {
      "cell_type": "code",
      "source": [
        "#scrape the table into pandas dataframe\n",
        "import pandas as pd\n",
        "\n",
        "table = soup.select(\".Cats_Table\")[0]\n",
        "columns = table.find(\"thead\").find_all(\"th\")\n",
        "column_names = [c.string for c in columns]\n",
        "\n",
        "table_rows = table.find(\"tbody\").find_all(\"tr\")\n",
        "l=[]\n",
        "for tr in table_rows:\n",
        "  td = tr.find_all('td')\n",
        "  row = [tr.get_text() for tr in td]\n",
        "  l.append(row)\n",
        "\n",
        "df = pd.DataFrame(l, columns = column_names)\n",
        "df.head()\n",
        "df['Trait']\n",
        "df.loc[df['Breed'] != \"Maine Coon\"]"
      ],
      "metadata": {
        "colab": {
          "base_uri": "https://localhost:8080/",
          "height": 206
        },
        "id": "1Uu1eIiaAM6n",
        "outputId": "7f6fb953-7aab-463d-c0c0-6625b0ddb744"
      },
      "execution_count": null,
      "outputs": [
        {
          "output_type": "execute_result",
          "data": {
            "text/plain": [
              "                Breed                                        Trait Picture\n",
              "0             Ragdoll                   gentle, calm, and sociable        \n",
              "1  American Shorthair        adaptability, patience, and tolerance        \n",
              "3             Siamese  highly intelligent, talkative, and sociable        \n",
              "4              Cyprus            sociable, friendly, and energetic        \n",
              "5             Persian                     quiet, sweet, and gentle        "
            ],
            "text/html": [
              "\n",
              "  <div id=\"df-5a9bc1ad-06f2-4441-b813-46016016fc94\">\n",
              "    <div class=\"colab-df-container\">\n",
              "      <div>\n",
              "<style scoped>\n",
              "    .dataframe tbody tr th:only-of-type {\n",
              "        vertical-align: middle;\n",
              "    }\n",
              "\n",
              "    .dataframe tbody tr th {\n",
              "        vertical-align: top;\n",
              "    }\n",
              "\n",
              "    .dataframe thead th {\n",
              "        text-align: right;\n",
              "    }\n",
              "</style>\n",
              "<table border=\"1\" class=\"dataframe\">\n",
              "  <thead>\n",
              "    <tr style=\"text-align: right;\">\n",
              "      <th></th>\n",
              "      <th>Breed</th>\n",
              "      <th>Trait</th>\n",
              "      <th>Picture</th>\n",
              "    </tr>\n",
              "  </thead>\n",
              "  <tbody>\n",
              "    <tr>\n",
              "      <th>0</th>\n",
              "      <td>Ragdoll</td>\n",
              "      <td>gentle, calm, and sociable</td>\n",
              "      <td></td>\n",
              "    </tr>\n",
              "    <tr>\n",
              "      <th>1</th>\n",
              "      <td>American Shorthair</td>\n",
              "      <td>adaptability, patience, and tolerance</td>\n",
              "      <td></td>\n",
              "    </tr>\n",
              "    <tr>\n",
              "      <th>3</th>\n",
              "      <td>Siamese</td>\n",
              "      <td>highly intelligent, talkative, and sociable</td>\n",
              "      <td></td>\n",
              "    </tr>\n",
              "    <tr>\n",
              "      <th>4</th>\n",
              "      <td>Cyprus</td>\n",
              "      <td>sociable, friendly, and energetic</td>\n",
              "      <td></td>\n",
              "    </tr>\n",
              "    <tr>\n",
              "      <th>5</th>\n",
              "      <td>Persian</td>\n",
              "      <td>quiet, sweet, and gentle</td>\n",
              "      <td></td>\n",
              "    </tr>\n",
              "  </tbody>\n",
              "</table>\n",
              "</div>\n",
              "      <button class=\"colab-df-convert\" onclick=\"convertToInteractive('df-5a9bc1ad-06f2-4441-b813-46016016fc94')\"\n",
              "              title=\"Convert this dataframe to an interactive table.\"\n",
              "              style=\"display:none;\">\n",
              "        \n",
              "  <svg xmlns=\"http://www.w3.org/2000/svg\" height=\"24px\"viewBox=\"0 0 24 24\"\n",
              "       width=\"24px\">\n",
              "    <path d=\"M0 0h24v24H0V0z\" fill=\"none\"/>\n",
              "    <path d=\"M18.56 5.44l.94 2.06.94-2.06 2.06-.94-2.06-.94-.94-2.06-.94 2.06-2.06.94zm-11 1L8.5 8.5l.94-2.06 2.06-.94-2.06-.94L8.5 2.5l-.94 2.06-2.06.94zm10 10l.94 2.06.94-2.06 2.06-.94-2.06-.94-.94-2.06-.94 2.06-2.06.94z\"/><path d=\"M17.41 7.96l-1.37-1.37c-.4-.4-.92-.59-1.43-.59-.52 0-1.04.2-1.43.59L10.3 9.45l-7.72 7.72c-.78.78-.78 2.05 0 2.83L4 21.41c.39.39.9.59 1.41.59.51 0 1.02-.2 1.41-.59l7.78-7.78 2.81-2.81c.8-.78.8-2.07 0-2.86zM5.41 20L4 18.59l7.72-7.72 1.47 1.35L5.41 20z\"/>\n",
              "  </svg>\n",
              "      </button>\n",
              "      \n",
              "  <style>\n",
              "    .colab-df-container {\n",
              "      display:flex;\n",
              "      flex-wrap:wrap;\n",
              "      gap: 12px;\n",
              "    }\n",
              "\n",
              "    .colab-df-convert {\n",
              "      background-color: #E8F0FE;\n",
              "      border: none;\n",
              "      border-radius: 50%;\n",
              "      cursor: pointer;\n",
              "      display: none;\n",
              "      fill: #1967D2;\n",
              "      height: 32px;\n",
              "      padding: 0 0 0 0;\n",
              "      width: 32px;\n",
              "    }\n",
              "\n",
              "    .colab-df-convert:hover {\n",
              "      background-color: #E2EBFA;\n",
              "      box-shadow: 0px 1px 2px rgba(60, 64, 67, 0.3), 0px 1px 3px 1px rgba(60, 64, 67, 0.15);\n",
              "      fill: #174EA6;\n",
              "    }\n",
              "\n",
              "    [theme=dark] .colab-df-convert {\n",
              "      background-color: #3B4455;\n",
              "      fill: #D2E3FC;\n",
              "    }\n",
              "\n",
              "    [theme=dark] .colab-df-convert:hover {\n",
              "      background-color: #434B5C;\n",
              "      box-shadow: 0px 1px 3px 1px rgba(0, 0, 0, 0.15);\n",
              "      filter: drop-shadow(0px 1px 2px rgba(0, 0, 0, 0.3));\n",
              "      fill: #FFFFFF;\n",
              "    }\n",
              "  </style>\n",
              "\n",
              "      <script>\n",
              "        const buttonEl =\n",
              "          document.querySelector('#df-5a9bc1ad-06f2-4441-b813-46016016fc94 button.colab-df-convert');\n",
              "        buttonEl.style.display =\n",
              "          google.colab.kernel.accessAllowed ? 'block' : 'none';\n",
              "\n",
              "        async function convertToInteractive(key) {\n",
              "          const element = document.querySelector('#df-5a9bc1ad-06f2-4441-b813-46016016fc94');\n",
              "          const dataTable =\n",
              "            await google.colab.kernel.invokeFunction('convertToInteractive',\n",
              "                                                     [key], {});\n",
              "          if (!dataTable) return;\n",
              "\n",
              "          const docLinkHtml = 'Like what you see? Visit the ' +\n",
              "            '<a target=\"_blank\" href=https://colab.research.google.com/notebooks/data_table.ipynb>data table notebook</a>'\n",
              "            + ' to learn more about interactive tables.';\n",
              "          element.innerHTML = '';\n",
              "          dataTable['output_type'] = 'display_data';\n",
              "          await google.colab.output.renderOutput(dataTable, element);\n",
              "          const docLink = document.createElement('div');\n",
              "          docLink.innerHTML = docLinkHtml;\n",
              "          element.appendChild(docLink);\n",
              "        }\n",
              "      </script>\n",
              "    </div>\n",
              "  </div>\n",
              "  "
            ]
          },
          "metadata": {},
          "execution_count": 35
        }
      ]
    },
    {
      "cell_type": "markdown",
      "source": [
        "# Grab all the Breeds that has the trait: friendly"
      ],
      "metadata": {
        "id": "nyzOh1n7G0rm"
      }
    },
    {
      "cell_type": "code",
      "source": [
        "import re\n",
        "\n",
        "Cats = soup.select('.Cats_Table')\n",
        "Friendly_Cats = [cat.find_all(string = re.compile(\"friendly\")) for cat in Cats]\n",
        "Friendly_Cats\n",
        "\n",
        "Goofy_Cats = [cat.find(string = re.compile(\"goofy\")) for cat in Cats]\n",
        "Goofy_Cats = [cat.find_parent().get_text() for cat in Goofy_Cats if cat]\n",
        "Goofy_Cats"
      ],
      "metadata": {
        "colab": {
          "base_uri": "https://localhost:8080/"
        },
        "id": "kPjH-GefG-JT",
        "outputId": "7b242bb1-64dc-4e3a-a8d9-8cdba2c8230e"
      },
      "execution_count": null,
      "outputs": [
        {
          "output_type": "execute_result",
          "data": {
            "text/plain": [
              "['friendly, affectionate, and goofy ']"
            ]
          },
          "metadata": {},
          "execution_count": 57
        }
      ]
    },
    {
      "cell_type": "markdown",
      "source": [
        "# Download an image"
      ],
      "metadata": {
        "id": "Gcmt4IpBQvle"
      }
    },
    {
      "cell_type": "code",
      "source": [
        "import requests\n",
        "\n",
        "url = \"https://ty875.github.io/BeautifulSoup/\"\n",
        "\n",
        "image = soup.select(\"img\")\n",
        "image_url = image[0]['src']\n",
        "\n",
        "image_data = requests.get(image_url).content\n",
        "#download the image into the google collab directory\n",
        "#can be accessed by going to the file folder to the left\n",
        "#To download it on local machines, use terminal\n",
        "with open('Cat.jpg', 'wb') as handler:\n",
        "    handler.write(image_data)"
      ],
      "metadata": {
        "colab": {
          "base_uri": "https://localhost:8080/"
        },
        "id": "lGJm0dsUQxxx",
        "outputId": "1ffd864d-e52c-463d-d865-90c6a74d256c"
      },
      "execution_count": null,
      "outputs": [
        {
          "output_type": "stream",
          "name": "stdout",
          "text": [
            "['.config', 'cat.jpg', 'ragdoll_cat_01401.jpg', 'Cat.jpg', 'sample_data']\n"
          ]
        }
      ]
    },
    {
      "cell_type": "code",
      "source": [],
      "metadata": {
        "id": "pz2zVwweQ5Mg"
      },
      "execution_count": null,
      "outputs": []
    }
  ]
}